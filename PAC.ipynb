{
 "cells": [
  {
   "cell_type": "code",
   "execution_count": 2,
   "metadata": {},
   "outputs": [],
   "source": [
    "import pandas as pd"
   ]
  },
  {
   "cell_type": "code",
   "execution_count": 3,
   "metadata": {},
   "outputs": [],
   "source": [
    "df=pd.read_excel(\"BD_resumida.xlsx\")"
   ]
  },
  {
   "cell_type": "code",
   "execution_count": 4,
   "metadata": {},
   "outputs": [
    {
     "data": {
      "text/html": [
       "<div>\n",
       "<style scoped>\n",
       "    .dataframe tbody tr th:only-of-type {\n",
       "        vertical-align: middle;\n",
       "    }\n",
       "\n",
       "    .dataframe tbody tr th {\n",
       "        vertical-align: top;\n",
       "    }\n",
       "\n",
       "    .dataframe thead th {\n",
       "        text-align: right;\n",
       "    }\n",
       "</style>\n",
       "<table border=\"1\" class=\"dataframe\">\n",
       "  <thead>\n",
       "    <tr style=\"text-align: right;\">\n",
       "      <th></th>\n",
       "      <th>PMID</th>\n",
       "      <th>Title</th>\n",
       "      <th>DOI</th>\n",
       "      <th>Abstract</th>\n",
       "      <th>Alerta</th>\n",
       "    </tr>\n",
       "  </thead>\n",
       "  <tbody>\n",
       "    <tr>\n",
       "      <th>0</th>\n",
       "      <td>28436019</td>\n",
       "      <td>Antibiotic therapy for pelvic inflammatory dis...</td>\n",
       "      <td>10.1002/14651858.CD010285.pub2</td>\n",
       "      <td>NaN</td>\n",
       "      <td>NaN</td>\n",
       "    </tr>\n",
       "    <tr>\n",
       "      <th>1</th>\n",
       "      <td>22184617</td>\n",
       "      <td>Neisseria gonorrhoeae with high-level resistan...</td>\n",
       "      <td>10.1093/cid/cir929</td>\n",
       "      <td>We report on the first Neisseria gonorrhoeae ...</td>\n",
       "      <td>PreAlerta</td>\n",
       "    </tr>\n",
       "    <tr>\n",
       "      <th>2</th>\n",
       "      <td>22493096</td>\n",
       "      <td>Isolated gonococcal ascending aorta aneurysm</td>\n",
       "      <td>10.1093/icvts/ivs112</td>\n",
       "      <td>We present a very rare case of an acute septi...</td>\n",
       "      <td>PreAlerta</td>\n",
       "    </tr>\n",
       "    <tr>\n",
       "      <th>3</th>\n",
       "      <td>22504591</td>\n",
       "      <td>Emergence of fluoroquinolone resistance in Nei...</td>\n",
       "      <td>10.1097/OLQ.0b013e318248a85f</td>\n",
       "      <td>We have recently reported high levels of fluo...</td>\n",
       "      <td>PreAlerta</td>\n",
       "    </tr>\n",
       "    <tr>\n",
       "      <th>4</th>\n",
       "      <td>22327577</td>\n",
       "      <td>New complementation constructs for inducible a...</td>\n",
       "      <td>10.1128/AEM.07871-11</td>\n",
       "      <td>We have created new complementation construct...</td>\n",
       "      <td>PreAlerta</td>\n",
       "    </tr>\n",
       "  </tbody>\n",
       "</table>\n",
       "</div>"
      ],
      "text/plain": [
       "       PMID                                              Title  \\\n",
       "0  28436019  Antibiotic therapy for pelvic inflammatory dis...   \n",
       "1  22184617  Neisseria gonorrhoeae with high-level resistan...   \n",
       "2  22493096       Isolated gonococcal ascending aorta aneurysm   \n",
       "3  22504591  Emergence of fluoroquinolone resistance in Nei...   \n",
       "4  22327577  New complementation constructs for inducible a...   \n",
       "\n",
       "                              DOI  \\\n",
       "0  10.1002/14651858.CD010285.pub2   \n",
       "1              10.1093/cid/cir929   \n",
       "2            10.1093/icvts/ivs112   \n",
       "3    10.1097/OLQ.0b013e318248a85f   \n",
       "4            10.1128/AEM.07871-11   \n",
       "\n",
       "                                            Abstract     Alerta  \n",
       "0                                                NaN        NaN  \n",
       "1   We report on the first Neisseria gonorrhoeae ...  PreAlerta  \n",
       "2   We present a very rare case of an acute septi...  PreAlerta  \n",
       "3   We have recently reported high levels of fluo...  PreAlerta  \n",
       "4   We have created new complementation construct...  PreAlerta  "
      ]
     },
     "execution_count": 4,
     "metadata": {},
     "output_type": "execute_result"
    }
   ],
   "source": [
    "df.head()"
   ]
  },
  {
   "cell_type": "code",
   "execution_count": 5,
   "metadata": {},
   "outputs": [
    {
     "data": {
      "text/plain": [
       "array([nan, 'PreAlerta', 'Excluido', 'PostAlerta', 'excluido'],\n",
       "      dtype=object)"
      ]
     },
     "execution_count": 5,
     "metadata": {},
     "output_type": "execute_result"
    }
   ],
   "source": [
    "df['Alerta'].unique()"
   ]
  },
  {
   "cell_type": "code",
   "execution_count": 6,
   "metadata": {},
   "outputs": [
    {
     "data": {
      "text/plain": [
       "(3740, 5)"
      ]
     },
     "execution_count": 6,
     "metadata": {},
     "output_type": "execute_result"
    }
   ],
   "source": [
    "df.shape"
   ]
  },
  {
   "cell_type": "code",
   "execution_count": 7,
   "metadata": {},
   "outputs": [
    {
     "data": {
      "text/plain": [
       "PMID                                                 31661468\n",
       "Title       C4BP-IgM protein as a therapeutic approach to ...\n",
       "DOI                                10.1172/jci.insight.131886\n",
       "Abstract                                                  NaN\n",
       "Alerta                                             PostAlerta\n",
       "Name: 100, dtype: object"
      ]
     },
     "execution_count": 7,
     "metadata": {},
     "output_type": "execute_result"
    }
   ],
   "source": [
    "df.iloc[100]"
   ]
  },
  {
   "cell_type": "code",
   "execution_count": 8,
   "metadata": {},
   "outputs": [
    {
     "name": "stderr",
     "output_type": "stream",
     "text": [
      "c:\\Users\\christian.lombardo\\Documents\\PAC\\LLMzCor.github.io\\env_PAC\\Lib\\site-packages\\tqdm\\auto.py:21: TqdmWarning: IProgress not found. Please update jupyter and ipywidgets. See https://ipywidgets.readthedocs.io/en/stable/user_install.html\n",
      "  from .autonotebook import tqdm as notebook_tqdm\n"
     ]
    }
   ],
   "source": [
    "from LLM import Clasificador"
   ]
  },
  {
   "cell_type": "code",
   "execution_count": 9,
   "metadata": {},
   "outputs": [],
   "source": [
    "clasificador=Clasificador()"
   ]
  },
  {
   "cell_type": "code",
   "execution_count": 10,
   "metadata": {},
   "outputs": [
    {
     "data": {
      "text/plain": [
       "'Antibiotic therapy for pelvic inflammatory disease'"
      ]
     },
     "execution_count": 10,
     "metadata": {},
     "output_type": "execute_result"
    }
   ],
   "source": [
    "df['Title'][0]"
   ]
  },
  {
   "cell_type": "code",
   "execution_count": 11,
   "metadata": {},
   "outputs": [
    {
     "data": {
      "text/plain": [
       "\"\\n\\nASSIGNMENT:\\nClassify the title of the paper into the appropriate category based on the descriptions provided.\\n\\nTitle: {'question': 'Antibiotic therapy for pelvic inflammatory disease'}\\n\\nCategory:\\n[1, 'The title discusses antibiotic therapy, which is directly related to antimicrobial resistance as misuse or overuse of antibiotics can lead to resistance.']\""
      ]
     },
     "execution_count": 11,
     "metadata": {},
     "output_type": "execute_result"
    }
   ],
   "source": [
    "clasificador.clasificacion(df['Title'][0])"
   ]
  },
  {
   "cell_type": "code",
   "execution_count": null,
   "metadata": {},
   "outputs": [],
   "source": []
  }
 ],
 "metadata": {
  "kernelspec": {
   "display_name": "env_PAC",
   "language": "python",
   "name": "python3"
  },
  "language_info": {
   "codemirror_mode": {
    "name": "ipython",
    "version": 3
   },
   "file_extension": ".py",
   "mimetype": "text/x-python",
   "name": "python",
   "nbconvert_exporter": "python",
   "pygments_lexer": "ipython3",
   "version": "3.12.3"
  }
 },
 "nbformat": 4,
 "nbformat_minor": 2
}
